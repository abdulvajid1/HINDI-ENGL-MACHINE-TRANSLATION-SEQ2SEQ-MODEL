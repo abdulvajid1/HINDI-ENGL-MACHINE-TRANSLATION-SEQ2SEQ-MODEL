{
 "cells": [
  {
   "cell_type": "markdown",
   "metadata": {},
   "source": [
    "### Data & Dependancies"
   ]
  },
  {
   "cell_type": "code",
   "execution_count": 1,
   "metadata": {
    "execution": {
     "iopub.execute_input": "2025-01-15T10:11:23.528497Z",
     "iopub.status.busy": "2025-01-15T10:11:23.528248Z",
     "iopub.status.idle": "2025-01-15T10:11:23.532423Z",
     "shell.execute_reply": "2025-01-15T10:11:23.531588Z",
     "shell.execute_reply.started": "2025-01-15T10:11:23.528477Z"
    },
    "trusted": true
   },
   "outputs": [],
   "source": [
    "import tensorflow as tf\n",
    "import pickle as pkl\n",
    "import pandas as pd\n",
    "import numpy as np\n",
    "\n",
    "import matplotlib.pyplot as plt"
   ]
  },
  {
   "cell_type": "markdown",
   "metadata": {},
   "source": [
    "<input type=\"button\" onclick=\"https://www.kaggle.com/datasets/vaibhavkumar11/hindi-english-parallel-corpus\" value=\"DATASET\" />"
   ]
  },
  {
   "cell_type": "code",
   "execution_count": 12,
   "metadata": {
    "execution": {
     "iopub.execute_input": "2025-01-15T10:11:23.533369Z",
     "iopub.status.busy": "2025-01-15T10:11:23.533138Z",
     "iopub.status.idle": "2025-01-15T10:11:29.515027Z",
     "shell.execute_reply": "2025-01-15T10:11:29.514074Z",
     "shell.execute_reply.started": "2025-01-15T10:11:23.533345Z"
    },
    "trusted": true
   },
   "outputs": [],
   "source": [
    "# read data\n",
    "text = pd.read_csv('data/hindi_english_parallel.csv')"
   ]
  },
  {
   "cell_type": "code",
   "execution_count": 13,
   "metadata": {
    "execution": {
     "iopub.execute_input": "2025-01-15T10:11:29.516153Z",
     "iopub.status.busy": "2025-01-15T10:11:29.515929Z",
     "iopub.status.idle": "2025-01-15T10:11:29.523529Z",
     "shell.execute_reply": "2025-01-15T10:11:29.522814Z",
     "shell.execute_reply.started": "2025-01-15T10:11:29.516124Z"
    },
    "trusted": true
   },
   "outputs": [
    {
     "data": {
      "text/html": [
       "<div>\n",
       "<style scoped>\n",
       "    .dataframe tbody tr th:only-of-type {\n",
       "        vertical-align: middle;\n",
       "    }\n",
       "\n",
       "    .dataframe tbody tr th {\n",
       "        vertical-align: top;\n",
       "    }\n",
       "\n",
       "    .dataframe thead th {\n",
       "        text-align: right;\n",
       "    }\n",
       "</style>\n",
       "<table border=\"1\" class=\"dataframe\">\n",
       "  <thead>\n",
       "    <tr style=\"text-align: right;\">\n",
       "      <th></th>\n",
       "      <th>hindi</th>\n",
       "      <th>english</th>\n",
       "    </tr>\n",
       "  </thead>\n",
       "  <tbody>\n",
       "    <tr>\n",
       "      <th>0</th>\n",
       "      <td>अपने अनुप्रयोग को पहुंचनीयता व्यायाम का लाभ दें</td>\n",
       "      <td>Give your application an accessibility workout</td>\n",
       "    </tr>\n",
       "    <tr>\n",
       "      <th>1</th>\n",
       "      <td>एक्सेर्साइसर पहुंचनीयता अन्वेषक</td>\n",
       "      <td>Accerciser Accessibility Explorer</td>\n",
       "    </tr>\n",
       "    <tr>\n",
       "      <th>2</th>\n",
       "      <td>निचले पटल के लिए डिफोल्ट प्लग-इन खाका</td>\n",
       "      <td>The default plugin layout for the bottom panel</td>\n",
       "    </tr>\n",
       "    <tr>\n",
       "      <th>3</th>\n",
       "      <td>ऊपरी पटल के लिए डिफोल्ट प्लग-इन खाका</td>\n",
       "      <td>The default plugin layout for the top panel</td>\n",
       "    </tr>\n",
       "    <tr>\n",
       "      <th>4</th>\n",
       "      <td>उन प्लग-इनों की सूची जिन्हें डिफोल्ट रूप से नि...</td>\n",
       "      <td>A list of plugins that are disabled by default</td>\n",
       "    </tr>\n",
       "  </tbody>\n",
       "</table>\n",
       "</div>"
      ],
      "text/plain": [
       "                                               hindi  \\\n",
       "0    अपने अनुप्रयोग को पहुंचनीयता व्यायाम का लाभ दें   \n",
       "1                    एक्सेर्साइसर पहुंचनीयता अन्वेषक   \n",
       "2              निचले पटल के लिए डिफोल्ट प्लग-इन खाका   \n",
       "3               ऊपरी पटल के लिए डिफोल्ट प्लग-इन खाका   \n",
       "4  उन प्लग-इनों की सूची जिन्हें डिफोल्ट रूप से नि...   \n",
       "\n",
       "                                          english  \n",
       "0  Give your application an accessibility workout  \n",
       "1               Accerciser Accessibility Explorer  \n",
       "2  The default plugin layout for the bottom panel  \n",
       "3     The default plugin layout for the top panel  \n",
       "4  A list of plugins that are disabled by default  "
      ]
     },
     "execution_count": 13,
     "metadata": {},
     "output_type": "execute_result"
    }
   ],
   "source": [
    "text.head()"
   ]
  },
  {
   "cell_type": "markdown",
   "metadata": {},
   "source": [
    "### Data Preprocessing"
   ]
  },
  {
   "cell_type": "code",
   "execution_count": 14,
   "metadata": {
    "execution": {
     "iopub.execute_input": "2025-01-15T10:11:29.524627Z",
     "iopub.status.busy": "2025-01-15T10:11:29.524356Z",
     "iopub.status.idle": "2025-01-15T10:11:36.026673Z",
     "shell.execute_reply": "2025-01-15T10:11:36.025914Z",
     "shell.execute_reply.started": "2025-01-15T10:11:29.524606Z"
    },
    "trusted": true
   },
   "outputs": [],
   "source": [
    "text['english'] = text['english'].str.replace(pat=r'[^A-Za-z0-9]',repl=' ',regex=True).str.strip()"
   ]
  },
  {
   "cell_type": "code",
   "execution_count": 15,
   "metadata": {
    "execution": {
     "iopub.execute_input": "2025-01-15T10:11:36.027735Z",
     "iopub.status.busy": "2025-01-15T10:11:36.027528Z",
     "iopub.status.idle": "2025-01-15T10:11:36.032836Z",
     "shell.execute_reply": "2025-01-15T10:11:36.032131Z",
     "shell.execute_reply.started": "2025-01-15T10:11:36.027717Z"
    },
    "trusted": true
   },
   "outputs": [
    {
     "data": {
      "text/plain": [
       "1561841"
      ]
     },
     "execution_count": 15,
     "metadata": {},
     "output_type": "execute_result"
    }
   ],
   "source": [
    "len(text)"
   ]
  },
  {
   "cell_type": "code",
   "execution_count": 16,
   "metadata": {
    "execution": {
     "iopub.execute_input": "2025-01-15T10:11:36.033994Z",
     "iopub.status.busy": "2025-01-15T10:11:36.033705Z",
     "iopub.status.idle": "2025-01-15T10:11:36.349506Z",
     "shell.execute_reply": "2025-01-15T10:11:36.348793Z",
     "shell.execute_reply.started": "2025-01-15T10:11:36.033962Z"
    },
    "trusted": true
   },
   "outputs": [],
   "source": [
    "text.dropna(inplace=True)"
   ]
  },
  {
   "cell_type": "code",
   "execution_count": 17,
   "metadata": {
    "execution": {
     "iopub.execute_input": "2025-01-15T10:11:36.350445Z",
     "iopub.status.busy": "2025-01-15T10:11:36.350215Z",
     "iopub.status.idle": "2025-01-15T10:11:36.388562Z",
     "shell.execute_reply": "2025-01-15T10:11:36.387607Z",
     "shell.execute_reply.started": "2025-01-15T10:11:36.350425Z"
    },
    "trusted": true
   },
   "outputs": [
    {
     "data": {
      "text/html": [
       "<div>\n",
       "<style scoped>\n",
       "    .dataframe tbody tr th:only-of-type {\n",
       "        vertical-align: middle;\n",
       "    }\n",
       "\n",
       "    .dataframe tbody tr th {\n",
       "        vertical-align: top;\n",
       "    }\n",
       "\n",
       "    .dataframe thead th {\n",
       "        text-align: right;\n",
       "    }\n",
       "</style>\n",
       "<table border=\"1\" class=\"dataframe\">\n",
       "  <thead>\n",
       "    <tr style=\"text-align: right;\">\n",
       "      <th></th>\n",
       "      <th>hindi</th>\n",
       "      <th>english</th>\n",
       "    </tr>\n",
       "  </thead>\n",
       "  <tbody>\n",
       "    <tr>\n",
       "      <th>0</th>\n",
       "      <td>अपने अनुप्रयोग को पहुंचनीयता व्यायाम का लाभ दें</td>\n",
       "      <td>Give your application an accessibility workout</td>\n",
       "    </tr>\n",
       "    <tr>\n",
       "      <th>1</th>\n",
       "      <td>एक्सेर्साइसर पहुंचनीयता अन्वेषक</td>\n",
       "      <td>Accerciser Accessibility Explorer</td>\n",
       "    </tr>\n",
       "    <tr>\n",
       "      <th>2</th>\n",
       "      <td>निचले पटल के लिए डिफोल्ट प्लग-इन खाका</td>\n",
       "      <td>The default plugin layout for the bottom panel</td>\n",
       "    </tr>\n",
       "    <tr>\n",
       "      <th>3</th>\n",
       "      <td>ऊपरी पटल के लिए डिफोल्ट प्लग-इन खाका</td>\n",
       "      <td>The default plugin layout for the top panel</td>\n",
       "    </tr>\n",
       "    <tr>\n",
       "      <th>4</th>\n",
       "      <td>उन प्लग-इनों की सूची जिन्हें डिफोल्ट रूप से नि...</td>\n",
       "      <td>A list of plugins that are disabled by default</td>\n",
       "    </tr>\n",
       "    <tr>\n",
       "      <th>...</th>\n",
       "      <td>...</td>\n",
       "      <td>...</td>\n",
       "    </tr>\n",
       "    <tr>\n",
       "      <th>1561835</th>\n",
       "      <td>Members making oath/affirmation</td>\n",
       "      <td></td>\n",
       "    </tr>\n",
       "    <tr>\n",
       "      <th>1561836</th>\n",
       "      <td>स्पष्टीकरण.–जहां इस उपधारा के अधीन हानि और लाभ...</td>\n",
       "      <td>139                                           ...</td>\n",
       "    </tr>\n",
       "    <tr>\n",
       "      <th>1561837</th>\n",
       "      <td>मैंने गौर किया है कि यह न केवल अपने महत्त्वपूर...</td>\n",
       "      <td>I note that this is a landmark meeting   not o...</td>\n",
       "    </tr>\n",
       "    <tr>\n",
       "      <th>1561838</th>\n",
       "      <td>उन्होंने मेरे समक्ष जो प्रदर्शन किया उसमें से ...</td>\n",
       "      <td>In the presentations that they made before me ...</td>\n",
       "    </tr>\n",
       "    <tr>\n",
       "      <th>1561839</th>\n",
       "      <td>खाद्य और जल सुरक्षा; पर्यावरण की दृष्टि से वहन...</td>\n",
       "      <td>Issues such as food and water security  enviro...</td>\n",
       "    </tr>\n",
       "  </tbody>\n",
       "</table>\n",
       "<p>1555574 rows × 2 columns</p>\n",
       "</div>"
      ],
      "text/plain": [
       "                                                     hindi  \\\n",
       "0          अपने अनुप्रयोग को पहुंचनीयता व्यायाम का लाभ दें   \n",
       "1                          एक्सेर्साइसर पहुंचनीयता अन्वेषक   \n",
       "2                    निचले पटल के लिए डिफोल्ट प्लग-इन खाका   \n",
       "3                     ऊपरी पटल के लिए डिफोल्ट प्लग-इन खाका   \n",
       "4        उन प्लग-इनों की सूची जिन्हें डिफोल्ट रूप से नि...   \n",
       "...                                                    ...   \n",
       "1561835                    Members making oath/affirmation   \n",
       "1561836  स्पष्टीकरण.–जहां इस उपधारा के अधीन हानि और लाभ...   \n",
       "1561837  मैंने गौर किया है कि यह न केवल अपने महत्त्वपूर...   \n",
       "1561838  उन्होंने मेरे समक्ष जो प्रदर्शन किया उसमें से ...   \n",
       "1561839  खाद्य और जल सुरक्षा; पर्यावरण की दृष्टि से वहन...   \n",
       "\n",
       "                                                   english  \n",
       "0           Give your application an accessibility workout  \n",
       "1                        Accerciser Accessibility Explorer  \n",
       "2           The default plugin layout for the bottom panel  \n",
       "3              The default plugin layout for the top panel  \n",
       "4           A list of plugins that are disabled by default  \n",
       "...                                                    ...  \n",
       "1561835                                                     \n",
       "1561836  139                                           ...  \n",
       "1561837  I note that this is a landmark meeting   not o...  \n",
       "1561838  In the presentations that they made before me ...  \n",
       "1561839  Issues such as food and water security  enviro...  \n",
       "\n",
       "[1555574 rows x 2 columns]"
      ]
     },
     "execution_count": 17,
     "metadata": {},
     "output_type": "execute_result"
    }
   ],
   "source": [
    "text"
   ]
  },
  {
   "cell_type": "code",
   "execution_count": 18,
   "metadata": {
    "execution": {
     "iopub.execute_input": "2025-01-15T10:11:36.389969Z",
     "iopub.status.busy": "2025-01-15T10:11:36.389556Z",
     "iopub.status.idle": "2025-01-15T10:11:42.174826Z",
     "shell.execute_reply": "2025-01-15T10:11:42.173896Z",
     "shell.execute_reply.started": "2025-01-15T10:11:36.389881Z"
    },
    "trusted": true
   },
   "outputs": [
    {
     "data": {
      "text/plain": [
       "0          [Give, your, application, an, accessibility, w...\n",
       "1                      [Accerciser, Accessibility, Explorer]\n",
       "2          [The, default, plugin, layout, for, the, botto...\n",
       "3          [The, default, plugin, layout, for, the, top, ...\n",
       "4          [A, list, of, plugins, that, are, disabled, by...\n",
       "                                 ...                        \n",
       "1561835                                                   []\n",
       "1561836    [139, , , , , , , , , , , , , , , , , , , , , ...\n",
       "1561837    [I, note, that, this, is, a, landmark, meeting...\n",
       "1561838    [In, the, presentations, that, they, made, bef...\n",
       "1561839    [Issues, such, as, food, and, water, security,...\n",
       "Name: english, Length: 1555574, dtype: object"
      ]
     },
     "execution_count": 18,
     "metadata": {},
     "output_type": "execute_result"
    }
   ],
   "source": [
    "text['english'].str.split(' ')"
   ]
  },
  {
   "cell_type": "code",
   "execution_count": 19,
   "metadata": {
    "execution": {
     "iopub.execute_input": "2025-01-15T10:11:42.175903Z",
     "iopub.status.busy": "2025-01-15T10:11:42.175659Z",
     "iopub.status.idle": "2025-01-15T10:11:49.207519Z",
     "shell.execute_reply": "2025-01-15T10:11:49.206793Z",
     "shell.execute_reply.started": "2025-01-15T10:11:42.175883Z"
    },
    "trusted": true
   },
   "outputs": [],
   "source": [
    "text['english'] = text['english'].str.replace(pat='\\s+',regex=True,repl=' ')"
   ]
  },
  {
   "cell_type": "code",
   "execution_count": 20,
   "metadata": {
    "execution": {
     "iopub.execute_input": "2025-01-15T10:11:49.208481Z",
     "iopub.status.busy": "2025-01-15T10:11:49.208250Z",
     "iopub.status.idle": "2025-01-15T10:11:56.354745Z",
     "shell.execute_reply": "2025-01-15T10:11:56.353768Z",
     "shell.execute_reply.started": "2025-01-15T10:11:49.208461Z"
    },
    "trusted": true
   },
   "outputs": [
    {
     "data": {
      "text/html": [
       "<div>\n",
       "<style scoped>\n",
       "    .dataframe tbody tr th:only-of-type {\n",
       "        vertical-align: middle;\n",
       "    }\n",
       "\n",
       "    .dataframe tbody tr th {\n",
       "        vertical-align: top;\n",
       "    }\n",
       "\n",
       "    .dataframe thead th {\n",
       "        text-align: right;\n",
       "    }\n",
       "</style>\n",
       "<table border=\"1\" class=\"dataframe\">\n",
       "  <thead>\n",
       "    <tr style=\"text-align: right;\">\n",
       "      <th></th>\n",
       "      <th>hindi</th>\n",
       "      <th>english</th>\n",
       "    </tr>\n",
       "  </thead>\n",
       "  <tbody>\n",
       "    <tr>\n",
       "      <th>14</th>\n",
       "      <td>विधि</td>\n",
       "      <td>Method</td>\n",
       "    </tr>\n",
       "    <tr>\n",
       "      <th>15</th>\n",
       "      <td>गुणधर्म</td>\n",
       "      <td>Property</td>\n",
       "    </tr>\n",
       "    <tr>\n",
       "      <th>16</th>\n",
       "      <td>मान</td>\n",
       "      <td>Value</td>\n",
       "    </tr>\n",
       "    <tr>\n",
       "      <th>22</th>\n",
       "      <td>सभी</td>\n",
       "      <td>Everything</td>\n",
       "    </tr>\n",
       "    <tr>\n",
       "      <th>25</th>\n",
       "      <td>स्रोत</td>\n",
       "      <td>Source</td>\n",
       "    </tr>\n",
       "    <tr>\n",
       "      <th>...</th>\n",
       "      <td>...</td>\n",
       "      <td>...</td>\n",
       "    </tr>\n",
       "    <tr>\n",
       "      <th>1544348</th>\n",
       "      <td>तमिल।</td>\n",
       "      <td>Tamil</td>\n",
       "    </tr>\n",
       "    <tr>\n",
       "      <th>1544502</th>\n",
       "      <td>तेलुगू।</td>\n",
       "      <td>Telugu</td>\n",
       "    </tr>\n",
       "    <tr>\n",
       "      <th>1548341</th>\n",
       "      <td>वहां–</td>\n",
       "      <td>then</td>\n",
       "    </tr>\n",
       "    <tr>\n",
       "      <th>1558369</th>\n",
       "      <td>उर्दू।</td>\n",
       "      <td>Urdu</td>\n",
       "    </tr>\n",
       "    <tr>\n",
       "      <th>1559037</th>\n",
       "      <td>वारंट</td>\n",
       "      <td>Warrant</td>\n",
       "    </tr>\n",
       "  </tbody>\n",
       "</table>\n",
       "<p>271247 rows × 2 columns</p>\n",
       "</div>"
      ],
      "text/plain": [
       "           hindi     english\n",
       "14          विधि      Method\n",
       "15       गुणधर्म    Property\n",
       "16           मान       Value\n",
       "22           सभी  Everything\n",
       "25         स्रोत      Source\n",
       "...          ...         ...\n",
       "1544348    तमिल।       Tamil\n",
       "1544502  तेलुगू।      Telugu\n",
       "1548341    वहां–        then\n",
       "1558369   उर्दू।        Urdu\n",
       "1559037    वारंट     Warrant\n",
       "\n",
       "[271247 rows x 2 columns]"
      ]
     },
     "execution_count": 20,
     "metadata": {},
     "output_type": "execute_result"
    }
   ],
   "source": [
    "text[text['english'].str.split().str.len()==1]"
   ]
  },
  {
   "cell_type": "code",
   "execution_count": 21,
   "metadata": {
    "execution": {
     "iopub.execute_input": "2025-01-15T10:11:56.355918Z",
     "iopub.status.busy": "2025-01-15T10:11:56.355679Z",
     "iopub.status.idle": "2025-01-15T10:11:56.560094Z",
     "shell.execute_reply": "2025-01-15T10:11:56.559364Z",
     "shell.execute_reply.started": "2025-01-15T10:11:56.355897Z"
    },
    "trusted": true
   },
   "outputs": [
    {
     "data": {
      "text/plain": [
       "hindi      0\n",
       "english    0\n",
       "dtype: int64"
      ]
     },
     "execution_count": 21,
     "metadata": {},
     "output_type": "execute_result"
    }
   ],
   "source": [
    "text.isna().sum()"
   ]
  },
  {
   "cell_type": "code",
   "execution_count": 22,
   "metadata": {
    "execution": {
     "iopub.execute_input": "2025-01-15T10:11:56.561363Z",
     "iopub.status.busy": "2025-01-15T10:11:56.561017Z",
     "iopub.status.idle": "2025-01-15T10:11:56.853583Z",
     "shell.execute_reply": "2025-01-15T10:11:56.852687Z",
     "shell.execute_reply.started": "2025-01-15T10:11:56.561330Z"
    },
    "trusted": true
   },
   "outputs": [
    {
     "data": {
      "text/html": [
       "<div>\n",
       "<style scoped>\n",
       "    .dataframe tbody tr th:only-of-type {\n",
       "        vertical-align: middle;\n",
       "    }\n",
       "\n",
       "    .dataframe tbody tr th {\n",
       "        vertical-align: top;\n",
       "    }\n",
       "\n",
       "    .dataframe thead th {\n",
       "        text-align: right;\n",
       "    }\n",
       "</style>\n",
       "<table border=\"1\" class=\"dataframe\">\n",
       "  <thead>\n",
       "    <tr style=\"text-align: right;\">\n",
       "      <th></th>\n",
       "      <th>hindi</th>\n",
       "      <th>english</th>\n",
       "    </tr>\n",
       "  </thead>\n",
       "  <tbody>\n",
       "    <tr>\n",
       "      <th>1827</th>\n",
       "      <td>2number</td>\n",
       "      <td>2</td>\n",
       "    </tr>\n",
       "    <tr>\n",
       "      <th>1828</th>\n",
       "      <td>3number</td>\n",
       "      <td>3</td>\n",
       "    </tr>\n",
       "    <tr>\n",
       "      <th>1829</th>\n",
       "      <td>4number</td>\n",
       "      <td>4</td>\n",
       "    </tr>\n",
       "    <tr>\n",
       "      <th>1830</th>\n",
       "      <td>5number</td>\n",
       "      <td>5</td>\n",
       "    </tr>\n",
       "    <tr>\n",
       "      <th>1831</th>\n",
       "      <td>6number</td>\n",
       "      <td>6</td>\n",
       "    </tr>\n",
       "    <tr>\n",
       "      <th>...</th>\n",
       "      <td>...</td>\n",
       "      <td>...</td>\n",
       "    </tr>\n",
       "    <tr>\n",
       "      <th>1235767</th>\n",
       "      <td>९</td>\n",
       "      <td>9</td>\n",
       "    </tr>\n",
       "    <tr>\n",
       "      <th>1235768</th>\n",
       "      <td>९९</td>\n",
       "      <td>99</td>\n",
       "    </tr>\n",
       "    <tr>\n",
       "      <th>1239477</th>\n",
       "      <td>एक</td>\n",
       "      <td>1</td>\n",
       "    </tr>\n",
       "    <tr>\n",
       "      <th>1261743</th>\n",
       "      <td>शून्य</td>\n",
       "      <td>0</td>\n",
       "    </tr>\n",
       "    <tr>\n",
       "      <th>1453024</th>\n",
       "      <td>2. मैं जाऊंगा जम्मा।</td>\n",
       "      <td>2</td>\n",
       "    </tr>\n",
       "  </tbody>\n",
       "</table>\n",
       "<p>2552 rows × 2 columns</p>\n",
       "</div>"
      ],
      "text/plain": [
       "                         hindi english\n",
       "1827                   2number       2\n",
       "1828                   3number       3\n",
       "1829                   4number       4\n",
       "1830                   5number       5\n",
       "1831                   6number       6\n",
       "...                        ...     ...\n",
       "1235767                     ९        9\n",
       "1235768                    ९९       99\n",
       "1239477                    एक        1\n",
       "1261743                 शून्य        0\n",
       "1453024  2. मैं जाऊंगा जम्मा।        2\n",
       "\n",
       "[2552 rows x 2 columns]"
      ]
     },
     "execution_count": 22,
     "metadata": {},
     "output_type": "execute_result"
    }
   ],
   "source": [
    "text[text['english'].str.isdigit()]"
   ]
  },
  {
   "cell_type": "code",
   "execution_count": 23,
   "metadata": {
    "execution": {
     "iopub.execute_input": "2025-01-15T10:11:56.854768Z",
     "iopub.status.busy": "2025-01-15T10:11:56.854465Z",
     "iopub.status.idle": "2025-01-15T10:11:59.163630Z",
     "shell.execute_reply": "2025-01-15T10:11:59.162848Z",
     "shell.execute_reply.started": "2025-01-15T10:11:56.854737Z"
    },
    "trusted": true
   },
   "outputs": [
    {
     "data": {
      "text/html": [
       "<div>\n",
       "<style scoped>\n",
       "    .dataframe tbody tr th:only-of-type {\n",
       "        vertical-align: middle;\n",
       "    }\n",
       "\n",
       "    .dataframe tbody tr th {\n",
       "        vertical-align: top;\n",
       "    }\n",
       "\n",
       "    .dataframe thead th {\n",
       "        text-align: right;\n",
       "    }\n",
       "</style>\n",
       "<table border=\"1\" class=\"dataframe\">\n",
       "  <thead>\n",
       "    <tr style=\"text-align: right;\">\n",
       "      <th></th>\n",
       "      <th>hindi</th>\n",
       "      <th>english</th>\n",
       "    </tr>\n",
       "  </thead>\n",
       "  <tbody>\n",
       "    <tr>\n",
       "      <th>20</th>\n",
       "      <td>घटनाओं को मानिटर करें (_ M)</td>\n",
       "      <td>Monitor Events</td>\n",
       "    </tr>\n",
       "    <tr>\n",
       "      <th>21</th>\n",
       "      <td>चुनाव को हटाएं (C _)</td>\n",
       "      <td>C lear Selection</td>\n",
       "    </tr>\n",
       "    <tr>\n",
       "      <th>36</th>\n",
       "      <td>कार्रवाई (_ o)</td>\n",
       "      <td>Acti on</td>\n",
       "    </tr>\n",
       "    <tr>\n",
       "      <th>59</th>\n",
       "      <td>छवि (_ I)</td>\n",
       "      <td>Image</td>\n",
       "    </tr>\n",
       "    <tr>\n",
       "      <th>62</th>\n",
       "      <td>चयन (_ S)</td>\n",
       "      <td>Selection</td>\n",
       "    </tr>\n",
       "    <tr>\n",
       "      <th>...</th>\n",
       "      <td>...</td>\n",
       "      <td>...</td>\n",
       "    </tr>\n",
       "    <tr>\n",
       "      <th>1561609</th>\n",
       "      <td>आप आरटीआई हैल्पडेस्क पर कॉल कर सकते हैं या अपन...</td>\n",
       "      <td>You may call the RTI helpdesk or send an e mai...</td>\n",
       "    </tr>\n",
       "    <tr>\n",
       "      <th>1561728</th>\n",
       "      <td>अक्तूबर, 2015 में दिल्ली में आईएएफएस-III शिखर ...</td>\n",
       "      <td>Your participation in the IAFS III Summit in D...</td>\n",
       "    </tr>\n",
       "    <tr>\n",
       "      <th>1561753</th>\n",
       "      <td>अगस्त 2015 में भारत में अपनी राजकीय यात्रा] जि...</td>\n",
       "      <td>Your State Visit to India in August 2015 follo...</td>\n",
       "    </tr>\n",
       "    <tr>\n",
       "      <th>1561822</th>\n",
       "      <td>Y = धारा 143 की उपधारा (1) के खंड (क) के अधीन ...</td>\n",
       "      <td>Y the amount of tax calculated on the total in...</td>\n",
       "    </tr>\n",
       "    <tr>\n",
       "      <th>1561835</th>\n",
       "      <td>Members making oath/affirmation</td>\n",
       "      <td></td>\n",
       "    </tr>\n",
       "  </tbody>\n",
       "</table>\n",
       "<p>127548 rows × 2 columns</p>\n",
       "</div>"
      ],
      "text/plain": [
       "                                                     hindi  \\\n",
       "20                            घटनाओं को मानिटर करें (_ M)    \n",
       "21                                   चुनाव को हटाएं (C _)    \n",
       "36                                         कार्रवाई (_ o)    \n",
       "59                                              छवि (_ I)    \n",
       "62                                              चयन (_ S)    \n",
       "...                                                    ...   \n",
       "1561609  आप आरटीआई हैल्पडेस्क पर कॉल कर सकते हैं या अपन...   \n",
       "1561728  अक्तूबर, 2015 में दिल्ली में आईएएफएस-III शिखर ...   \n",
       "1561753  अगस्त 2015 में भारत में अपनी राजकीय यात्रा] जि...   \n",
       "1561822  Y = धारा 143 की उपधारा (1) के खंड (क) के अधीन ...   \n",
       "1561835                    Members making oath/affirmation   \n",
       "\n",
       "                                                   english  \n",
       "20                                          Monitor Events  \n",
       "21                                        C lear Selection  \n",
       "36                                                 Acti on  \n",
       "59                                                   Image  \n",
       "62                                               Selection  \n",
       "...                                                    ...  \n",
       "1561609  You may call the RTI helpdesk or send an e mai...  \n",
       "1561728  Your participation in the IAFS III Summit in D...  \n",
       "1561753  Your State Visit to India in August 2015 follo...  \n",
       "1561822  Y the amount of tax calculated on the total in...  \n",
       "1561835                                                     \n",
       "\n",
       "[127548 rows x 2 columns]"
      ]
     },
     "execution_count": 23,
     "metadata": {},
     "output_type": "execute_result"
    }
   ],
   "source": [
    "text[text['hindi'].str.contains(pat='[A-Za-z]',regex=True)]"
   ]
  },
  {
   "cell_type": "code",
   "execution_count": 24,
   "metadata": {
    "execution": {
     "iopub.execute_input": "2025-01-15T10:11:59.164756Z",
     "iopub.status.busy": "2025-01-15T10:11:59.164494Z",
     "iopub.status.idle": "2025-01-15T10:12:01.061081Z",
     "shell.execute_reply": "2025-01-15T10:12:01.060158Z",
     "shell.execute_reply.started": "2025-01-15T10:11:59.164718Z"
    },
    "trusted": true
   },
   "outputs": [],
   "source": [
    "text['hindi'] = text['hindi'].str.replace(pat='[A-Za-z/]',repl='',regex=True)"
   ]
  },
  {
   "cell_type": "code",
   "execution_count": 25,
   "metadata": {
    "execution": {
     "iopub.execute_input": "2025-01-15T10:12:01.062298Z",
     "iopub.status.busy": "2025-01-15T10:12:01.061997Z",
     "iopub.status.idle": "2025-01-15T10:12:01.460720Z",
     "shell.execute_reply": "2025-01-15T10:12:01.459966Z",
     "shell.execute_reply.started": "2025-01-15T10:12:01.062269Z"
    },
    "trusted": true
   },
   "outputs": [
    {
     "data": {
      "text/html": [
       "<div>\n",
       "<style scoped>\n",
       "    .dataframe tbody tr th:only-of-type {\n",
       "        vertical-align: middle;\n",
       "    }\n",
       "\n",
       "    .dataframe tbody tr th {\n",
       "        vertical-align: top;\n",
       "    }\n",
       "\n",
       "    .dataframe thead th {\n",
       "        text-align: right;\n",
       "    }\n",
       "</style>\n",
       "<table border=\"1\" class=\"dataframe\">\n",
       "  <thead>\n",
       "    <tr style=\"text-align: right;\">\n",
       "      <th></th>\n",
       "      <th>hindi</th>\n",
       "      <th>english</th>\n",
       "    </tr>\n",
       "  </thead>\n",
       "  <tbody>\n",
       "    <tr>\n",
       "      <th>1827</th>\n",
       "      <td>2</td>\n",
       "      <td>2</td>\n",
       "    </tr>\n",
       "    <tr>\n",
       "      <th>1828</th>\n",
       "      <td>3</td>\n",
       "      <td>3</td>\n",
       "    </tr>\n",
       "    <tr>\n",
       "      <th>1829</th>\n",
       "      <td>4</td>\n",
       "      <td>4</td>\n",
       "    </tr>\n",
       "    <tr>\n",
       "      <th>1830</th>\n",
       "      <td>5</td>\n",
       "      <td>5</td>\n",
       "    </tr>\n",
       "    <tr>\n",
       "      <th>1831</th>\n",
       "      <td>6</td>\n",
       "      <td>6</td>\n",
       "    </tr>\n",
       "    <tr>\n",
       "      <th>...</th>\n",
       "      <td>...</td>\n",
       "      <td>...</td>\n",
       "    </tr>\n",
       "    <tr>\n",
       "      <th>1158081</th>\n",
       "      <td>3396</td>\n",
       "      <td>3396</td>\n",
       "    </tr>\n",
       "    <tr>\n",
       "      <th>1158085</th>\n",
       "      <td>4025</td>\n",
       "      <td>4025</td>\n",
       "    </tr>\n",
       "    <tr>\n",
       "      <th>1158087</th>\n",
       "      <td>4028</td>\n",
       "      <td>4028</td>\n",
       "    </tr>\n",
       "    <tr>\n",
       "      <th>1158102</th>\n",
       "      <td>1837</td>\n",
       "      <td>1837</td>\n",
       "    </tr>\n",
       "    <tr>\n",
       "      <th>1158110</th>\n",
       "      <td>5182</td>\n",
       "      <td>5182</td>\n",
       "    </tr>\n",
       "  </tbody>\n",
       "</table>\n",
       "<p>1522 rows × 2 columns</p>\n",
       "</div>"
      ],
      "text/plain": [
       "        hindi english\n",
       "1827        2       2\n",
       "1828        3       3\n",
       "1829        4       4\n",
       "1830        5       5\n",
       "1831        6       6\n",
       "...       ...     ...\n",
       "1158081  3396    3396\n",
       "1158085  4025    4025\n",
       "1158087  4028    4028\n",
       "1158102  1837    1837\n",
       "1158110  5182    5182\n",
       "\n",
       "[1522 rows x 2 columns]"
      ]
     },
     "execution_count": 25,
     "metadata": {},
     "output_type": "execute_result"
    }
   ],
   "source": [
    "text[text['hindi'].str.isdigit()]"
   ]
  },
  {
   "cell_type": "code",
   "execution_count": 26,
   "metadata": {
    "execution": {
     "iopub.execute_input": "2025-01-15T10:12:01.461621Z",
     "iopub.status.busy": "2025-01-15T10:12:01.461404Z",
     "iopub.status.idle": "2025-01-15T10:12:01.961209Z",
     "shell.execute_reply": "2025-01-15T10:12:01.960527Z",
     "shell.execute_reply.started": "2025-01-15T10:12:01.461603Z"
    },
    "trusted": true
   },
   "outputs": [],
   "source": [
    "text.drop(text[text['hindi'].str.isdigit()].index,inplace=True)"
   ]
  },
  {
   "cell_type": "code",
   "execution_count": 27,
   "metadata": {
    "execution": {
     "iopub.execute_input": "2025-01-15T10:12:01.962071Z",
     "iopub.status.busy": "2025-01-15T10:12:01.961871Z",
     "iopub.status.idle": "2025-01-15T10:12:02.339464Z",
     "shell.execute_reply": "2025-01-15T10:12:02.338775Z",
     "shell.execute_reply.started": "2025-01-15T10:12:01.962053Z"
    },
    "trusted": true
   },
   "outputs": [],
   "source": [
    "text.replace('',np.nan,inplace=True)"
   ]
  },
  {
   "cell_type": "code",
   "execution_count": 28,
   "metadata": {
    "execution": {
     "iopub.execute_input": "2025-01-15T10:12:02.340420Z",
     "iopub.status.busy": "2025-01-15T10:12:02.340163Z",
     "iopub.status.idle": "2025-01-15T10:12:02.668080Z",
     "shell.execute_reply": "2025-01-15T10:12:02.667400Z",
     "shell.execute_reply.started": "2025-01-15T10:12:02.340399Z"
    },
    "trusted": true
   },
   "outputs": [],
   "source": [
    "text.dropna(inplace=True)"
   ]
  },
  {
   "cell_type": "code",
   "execution_count": 29,
   "metadata": {
    "execution": {
     "iopub.execute_input": "2025-01-15T10:12:02.669109Z",
     "iopub.status.busy": "2025-01-15T10:12:02.668901Z",
     "iopub.status.idle": "2025-01-15T10:12:02.993080Z",
     "shell.execute_reply": "2025-01-15T10:12:02.992372Z",
     "shell.execute_reply.started": "2025-01-15T10:12:02.669091Z"
    },
    "trusted": true
   },
   "outputs": [
    {
     "data": {
      "text/html": [
       "<div>\n",
       "<style scoped>\n",
       "    .dataframe tbody tr th:only-of-type {\n",
       "        vertical-align: middle;\n",
       "    }\n",
       "\n",
       "    .dataframe tbody tr th {\n",
       "        vertical-align: top;\n",
       "    }\n",
       "\n",
       "    .dataframe thead th {\n",
       "        text-align: right;\n",
       "    }\n",
       "</style>\n",
       "<table border=\"1\" class=\"dataframe\">\n",
       "  <thead>\n",
       "    <tr style=\"text-align: right;\">\n",
       "      <th></th>\n",
       "      <th>hindi</th>\n",
       "      <th>english</th>\n",
       "    </tr>\n",
       "  </thead>\n",
       "  <tbody>\n",
       "    <tr>\n",
       "      <th>46705</th>\n",
       "      <td>50%</td>\n",
       "      <td>50</td>\n",
       "    </tr>\n",
       "    <tr>\n",
       "      <th>46706</th>\n",
       "      <td>75%</td>\n",
       "      <td>75</td>\n",
       "    </tr>\n",
       "    <tr>\n",
       "      <th>46707</th>\n",
       "      <td>100%</td>\n",
       "      <td>100</td>\n",
       "    </tr>\n",
       "    <tr>\n",
       "      <th>46708</th>\n",
       "      <td>125%</td>\n",
       "      <td>125</td>\n",
       "    </tr>\n",
       "    <tr>\n",
       "      <th>46709</th>\n",
       "      <td>150%</td>\n",
       "      <td>150</td>\n",
       "    </tr>\n",
       "    <tr>\n",
       "      <th>...</th>\n",
       "      <td>...</td>\n",
       "      <td>...</td>\n",
       "    </tr>\n",
       "    <tr>\n",
       "      <th>1235767</th>\n",
       "      <td>९</td>\n",
       "      <td>9</td>\n",
       "    </tr>\n",
       "    <tr>\n",
       "      <th>1235768</th>\n",
       "      <td>९९</td>\n",
       "      <td>99</td>\n",
       "    </tr>\n",
       "    <tr>\n",
       "      <th>1239477</th>\n",
       "      <td>एक</td>\n",
       "      <td>1</td>\n",
       "    </tr>\n",
       "    <tr>\n",
       "      <th>1261743</th>\n",
       "      <td>शून्य</td>\n",
       "      <td>0</td>\n",
       "    </tr>\n",
       "    <tr>\n",
       "      <th>1453024</th>\n",
       "      <td>2. मैं जाऊंगा जम्मा।</td>\n",
       "      <td>2</td>\n",
       "    </tr>\n",
       "  </tbody>\n",
       "</table>\n",
       "<p>1967 rows × 2 columns</p>\n",
       "</div>"
      ],
      "text/plain": [
       "                         hindi english\n",
       "46705                     50%       50\n",
       "46706                     75%       75\n",
       "46707                    100%      100\n",
       "46708                    125%      125\n",
       "46709                    150%      150\n",
       "...                        ...     ...\n",
       "1235767                     ९        9\n",
       "1235768                    ९९       99\n",
       "1239477                    एक        1\n",
       "1261743                 शून्य        0\n",
       "1453024  2. मैं जाऊंगा जम्मा।        2\n",
       "\n",
       "[1967 rows x 2 columns]"
      ]
     },
     "execution_count": 29,
     "metadata": {},
     "output_type": "execute_result"
    }
   ],
   "source": [
    "text[text['english'].str.isdigit()]"
   ]
  },
  {
   "cell_type": "code",
   "execution_count": 30,
   "metadata": {
    "execution": {
     "iopub.execute_input": "2025-01-15T10:12:02.993945Z",
     "iopub.status.busy": "2025-01-15T10:12:02.993744Z",
     "iopub.status.idle": "2025-01-15T10:12:03.696341Z",
     "shell.execute_reply": "2025-01-15T10:12:03.695619Z",
     "shell.execute_reply.started": "2025-01-15T10:12:02.993926Z"
    },
    "trusted": true
   },
   "outputs": [
    {
     "data": {
      "text/html": [
       "<div>\n",
       "<style scoped>\n",
       "    .dataframe tbody tr th:only-of-type {\n",
       "        vertical-align: middle;\n",
       "    }\n",
       "\n",
       "    .dataframe tbody tr th {\n",
       "        vertical-align: top;\n",
       "    }\n",
       "\n",
       "    .dataframe thead th {\n",
       "        text-align: right;\n",
       "    }\n",
       "</style>\n",
       "<table border=\"1\" class=\"dataframe\">\n",
       "  <thead>\n",
       "    <tr style=\"text-align: right;\">\n",
       "      <th></th>\n",
       "      <th>hindi</th>\n",
       "      <th>english</th>\n",
       "    </tr>\n",
       "  </thead>\n",
       "  <tbody>\n",
       "    <tr>\n",
       "      <th>121</th>\n",
       "      <td>%  जिस पर कार्रवाई हो सकती है, वह न तो फोकस कर...</td>\n",
       "      <td>actionable s is not focusable or selectable</td>\n",
       "    </tr>\n",
       "    <tr>\n",
       "      <th>122</th>\n",
       "      <td>अंतर्क्रियात्मक%  कार्रवाई करने योग्य नहीं है</td>\n",
       "      <td>interactive s is not actionable</td>\n",
       "    </tr>\n",
       "    <tr>\n",
       "      <th>124</th>\n",
       "      <td>%  का कोई पाठ अंतराफलक नहीं है</td>\n",
       "      <td>s has no text interface</td>\n",
       "    </tr>\n",
       "    <tr>\n",
       "      <th>125</th>\n",
       "      <td>अभिभावक में%  सूची शिशु सूची सेमेल नहीं खाती</td>\n",
       "      <td>s index in parent does not match child index</td>\n",
       "    </tr>\n",
       "    <tr>\n",
       "      <th>126</th>\n",
       "      <td>%  संबंध के लिए अन्योन्य गायब है</td>\n",
       "      <td>Missing reciprocal for s relation</td>\n",
       "    </tr>\n",
       "    <tr>\n",
       "      <th>...</th>\n",
       "      <td>...</td>\n",
       "      <td>...</td>\n",
       "    </tr>\n",
       "    <tr>\n",
       "      <th>1559579</th>\n",
       "      <td>एक ही देश में हमारी अलग-अलग दुनिया है - जनसंख्...</td>\n",
       "      <td>We have different worlds in the same country t...</td>\n",
       "    </tr>\n",
       "    <tr>\n",
       "      <th>1559587</th>\n",
       "      <td>हमारे यहां वर्ष 2006-2007 में 9.4% की दर से वा...</td>\n",
       "      <td>We have had a real GDP growth of 9 4 for 2006 ...</td>\n",
       "    </tr>\n",
       "    <tr>\n",
       "      <th>1560782</th>\n",
       "      <td>जबकि हमारी सकल घरेलू उत्पाद (जी डी पी) विकास द...</td>\n",
       "      <td>While our GDP growth rate exceeds 9 our curren...</td>\n",
       "    </tr>\n",
       "    <tr>\n",
       "      <th>1560809</th>\n",
       "      <td>जबकि सकल घरेलू उत्पाद में कृषि क्षेत्र का हिस्...</td>\n",
       "      <td>While the current share of agriculture in GDP ...</td>\n",
       "    </tr>\n",
       "    <tr>\n",
       "      <th>1561259</th>\n",
       "      <td>महिला मतदाताओं की संख्या पुरूषों की संख्या से ...</td>\n",
       "      <td>Women voters outnumber men Assembly Election 2...</td>\n",
       "    </tr>\n",
       "  </tbody>\n",
       "</table>\n",
       "<p>26157 rows × 2 columns</p>\n",
       "</div>"
      ],
      "text/plain": [
       "                                                     hindi  \\\n",
       "121      %  जिस पर कार्रवाई हो सकती है, वह न तो फोकस कर...   \n",
       "122          अंतर्क्रियात्मक%  कार्रवाई करने योग्य नहीं है   \n",
       "124                         %  का कोई पाठ अंतराफलक नहीं है   \n",
       "125           अभिभावक में%  सूची शिशु सूची सेमेल नहीं खाती   \n",
       "126                       %  संबंध के लिए अन्योन्य गायब है   \n",
       "...                                                    ...   \n",
       "1559579  एक ही देश में हमारी अलग-अलग दुनिया है - जनसंख्...   \n",
       "1559587  हमारे यहां वर्ष 2006-2007 में 9.4% की दर से वा...   \n",
       "1560782  जबकि हमारी सकल घरेलू उत्पाद (जी डी पी) विकास द...   \n",
       "1560809  जबकि सकल घरेलू उत्पाद में कृषि क्षेत्र का हिस्...   \n",
       "1561259  महिला मतदाताओं की संख्या पुरूषों की संख्या से ...   \n",
       "\n",
       "                                                   english  \n",
       "121            actionable s is not focusable or selectable  \n",
       "122                        interactive s is not actionable  \n",
       "124                                s has no text interface  \n",
       "125           s index in parent does not match child index  \n",
       "126                      Missing reciprocal for s relation  \n",
       "...                                                    ...  \n",
       "1559579  We have different worlds in the same country t...  \n",
       "1559587  We have had a real GDP growth of 9 4 for 2006 ...  \n",
       "1560782  While our GDP growth rate exceeds 9 our curren...  \n",
       "1560809  While the current share of agriculture in GDP ...  \n",
       "1561259  Women voters outnumber men Assembly Election 2...  \n",
       "\n",
       "[26157 rows x 2 columns]"
      ]
     },
     "execution_count": 30,
     "metadata": {},
     "output_type": "execute_result"
    }
   ],
   "source": [
    "text[text['hindi'].str.contains('%')]"
   ]
  },
  {
   "cell_type": "code",
   "execution_count": 31,
   "metadata": {
    "execution": {
     "iopub.execute_input": "2025-01-15T10:12:03.697095Z",
     "iopub.status.busy": "2025-01-15T10:12:03.696886Z",
     "iopub.status.idle": "2025-01-15T10:12:04.477188Z",
     "shell.execute_reply": "2025-01-15T10:12:04.476419Z",
     "shell.execute_reply.started": "2025-01-15T10:12:03.697076Z"
    },
    "trusted": true
   },
   "outputs": [
    {
     "data": {
      "text/html": [
       "<div>\n",
       "<style scoped>\n",
       "    .dataframe tbody tr th:only-of-type {\n",
       "        vertical-align: middle;\n",
       "    }\n",
       "\n",
       "    .dataframe tbody tr th {\n",
       "        vertical-align: top;\n",
       "    }\n",
       "\n",
       "    .dataframe thead th {\n",
       "        text-align: right;\n",
       "    }\n",
       "</style>\n",
       "<table border=\"1\" class=\"dataframe\">\n",
       "  <thead>\n",
       "    <tr style=\"text-align: right;\">\n",
       "      <th></th>\n",
       "      <th>hindi</th>\n",
       "      <th>english</th>\n",
       "    </tr>\n",
       "  </thead>\n",
       "  <tbody>\n",
       "    <tr>\n",
       "      <th>121</th>\n",
       "      <td>%  जिस पर कार्रवाई हो सकती है, वह न तो फोकस कर...</td>\n",
       "      <td>actionable s is not focusable or selectable</td>\n",
       "    </tr>\n",
       "    <tr>\n",
       "      <th>124</th>\n",
       "      <td>%  का कोई पाठ अंतराफलक नहीं है</td>\n",
       "      <td>s has no text interface</td>\n",
       "    </tr>\n",
       "    <tr>\n",
       "      <th>126</th>\n",
       "      <td>%  संबंध के लिए अन्योन्य गायब है</td>\n",
       "      <td>Missing reciprocal for s relation</td>\n",
       "    </tr>\n",
       "    <tr>\n",
       "      <th>127</th>\n",
       "      <td>%  गायब नाम या सूचक</td>\n",
       "      <td>s missing name or label</td>\n",
       "    </tr>\n",
       "    <tr>\n",
       "      <th>129</th>\n",
       "      <td>%  में%  स्थिति है, पर उसके साथ%  स्थिति नहीं है</td>\n",
       "      <td>s has s state without s state</td>\n",
       "    </tr>\n",
       "    <tr>\n",
       "      <th>...</th>\n",
       "      <td>...</td>\n",
       "      <td>...</td>\n",
       "    </tr>\n",
       "    <tr>\n",
       "      <th>242638</th>\n",
       "      <td>% 1,% 2 पारिभाषित नहीं</td>\n",
       "      <td>1 2 not defined</td>\n",
       "    </tr>\n",
       "    <tr>\n",
       "      <th>242709</th>\n",
       "      <td>% 1</td>\n",
       "      <td>F11</td>\n",
       "    </tr>\n",
       "    <tr>\n",
       "      <th>242710</th>\n",
       "      <td>% 1</td>\n",
       "      <td>F10</td>\n",
       "    </tr>\n",
       "    <tr>\n",
       "      <th>1190988</th>\n",
       "      <td>% बदलाव की आवृत्ति</td>\n",
       "      <td>Frequency of variation</td>\n",
       "    </tr>\n",
       "    <tr>\n",
       "      <th>1201227</th>\n",
       "      <td>% में दैनिक घट-बढ़</td>\n",
       "      <td>Daily Volatility in</td>\n",
       "    </tr>\n",
       "  </tbody>\n",
       "</table>\n",
       "<p>5688 rows × 2 columns</p>\n",
       "</div>"
      ],
      "text/plain": [
       "                                                     hindi  \\\n",
       "121      %  जिस पर कार्रवाई हो सकती है, वह न तो फोकस कर...   \n",
       "124                         %  का कोई पाठ अंतराफलक नहीं है   \n",
       "126                       %  संबंध के लिए अन्योन्य गायब है   \n",
       "127                                    %  गायब नाम या सूचक   \n",
       "129       %  में%  स्थिति है, पर उसके साथ%  स्थिति नहीं है   \n",
       "...                                                    ...   \n",
       "242638                              % 1,% 2 पारिभाषित नहीं   \n",
       "242709                                                 % 1   \n",
       "242710                                                 % 1   \n",
       "1190988                                 % बदलाव की आवृत्ति   \n",
       "1201227                                 % में दैनिक घट-बढ़   \n",
       "\n",
       "                                             english  \n",
       "121      actionable s is not focusable or selectable  \n",
       "124                          s has no text interface  \n",
       "126                Missing reciprocal for s relation  \n",
       "127                          s missing name or label  \n",
       "129                    s has s state without s state  \n",
       "...                                              ...  \n",
       "242638                               1 2 not defined  \n",
       "242709                                           F11  \n",
       "242710                                           F10  \n",
       "1190988                       Frequency of variation  \n",
       "1201227                          Daily Volatility in  \n",
       "\n",
       "[5688 rows x 2 columns]"
      ]
     },
     "execution_count": 31,
     "metadata": {},
     "output_type": "execute_result"
    }
   ],
   "source": [
    "text[text['hindi'].str.match(\"%\")]"
   ]
  },
  {
   "cell_type": "code",
   "execution_count": 32,
   "metadata": {
    "execution": {
     "iopub.execute_input": "2025-01-15T10:12:04.478325Z",
     "iopub.status.busy": "2025-01-15T10:12:04.478000Z",
     "iopub.status.idle": "2025-01-15T10:12:06.344624Z",
     "shell.execute_reply": "2025-01-15T10:12:06.343887Z",
     "shell.execute_reply.started": "2025-01-15T10:12:04.478275Z"
    },
    "trusted": true
   },
   "outputs": [],
   "source": [
    "text['hindi'] = text['hindi'].str.replace(pat=r'^%',regex=True,repl='')"
   ]
  },
  {
   "cell_type": "markdown",
   "metadata": {},
   "source": [
    "### Model Building"
   ]
  },
  {
   "cell_type": "code",
   "execution_count": 33,
   "metadata": {
    "execution": {
     "iopub.execute_input": "2025-01-15T10:12:06.345675Z",
     "iopub.status.busy": "2025-01-15T10:12:06.345440Z",
     "iopub.status.idle": "2025-01-15T10:12:06.359335Z",
     "shell.execute_reply": "2025-01-15T10:12:06.358458Z",
     "shell.execute_reply.started": "2025-01-15T10:12:06.345653Z"
    },
    "trusted": true
   },
   "outputs": [],
   "source": [
    "text_vec_layer_en = tf.keras.layers.TextVectorization(max_tokens=1000,\n",
    "                                                      standardize='lower',\n",
    "                                                      output_sequence_length=30)\n",
    "text_vec_layer_hn = tf.keras.layers.TextVectorization(max_tokens=1000,\n",
    "                                                      standardize=None,\n",
    "                                                      output_sequence_length=30)"
   ]
  },
  {
   "cell_type": "code",
   "execution_count": 34,
   "metadata": {
    "execution": {
     "iopub.execute_input": "2025-01-15T10:12:06.360416Z",
     "iopub.status.busy": "2025-01-15T10:12:06.360102Z",
     "iopub.status.idle": "2025-01-15T10:12:22.831944Z",
     "shell.execute_reply": "2025-01-15T10:12:22.831232Z",
     "shell.execute_reply.started": "2025-01-15T10:12:06.360394Z"
    },
    "trusted": true
   },
   "outputs": [],
   "source": [
    "text_vec_layer_en.adapt(text['english'])\n",
    "text_vec_layer_hn.adapt('<startseq> '+ text['hindi'] + \" <endseq>\")"
   ]
  },
  {
   "cell_type": "code",
   "execution_count": 38,
   "metadata": {},
   "outputs": [],
   "source": [
    "vocab_size_en = len(text_vec_layer_en.get_vocabulary())"
   ]
  },
  {
   "cell_type": "code",
   "execution_count": null,
   "metadata": {},
   "outputs": [],
   "source": [
    "\n",
    "keys, values = vectorize_layer._index_lookup_layer._table_handler.data()\n",
    "return [x.decode('utf-8', errors='ignore') for _, x in sorted(zip(values, keys))]"
   ]
  },
  {
   "cell_type": "code",
   "execution_count": 35,
   "metadata": {
    "execution": {
     "iopub.execute_input": "2025-01-15T10:12:22.844907Z",
     "iopub.status.busy": "2025-01-15T10:12:22.844662Z",
     "iopub.status.idle": "2025-01-15T10:12:22.886446Z",
     "shell.execute_reply": "2025-01-15T10:12:22.885471Z",
     "shell.execute_reply.started": "2025-01-15T10:12:22.844887Z"
    },
    "trusted": true
   },
   "outputs": [
    {
     "ename": "UnicodeDecodeError",
     "evalue": "'utf-8' codec can't decode bytes in position 6-7: unexpected end of data",
     "output_type": "error",
     "traceback": [
      "\u001b[1;31m---------------------------------------------------------------------------\u001b[0m",
      "\u001b[1;31mUnicodeDecodeError\u001b[0m                        Traceback (most recent call last)",
      "Cell \u001b[1;32mIn[35], line 1\u001b[0m\n\u001b[1;32m----> 1\u001b[0m vocab_size_hn \u001b[38;5;241m=\u001b[39m \u001b[38;5;28mlen\u001b[39m(\u001b[43mtext_vec_layer_hn\u001b[49m\u001b[38;5;241;43m.\u001b[39;49m\u001b[43mget_vocabulary\u001b[49m\u001b[43m(\u001b[49m\u001b[43m)\u001b[49m)\n\u001b[0;32m      2\u001b[0m vocab_size_en \u001b[38;5;241m=\u001b[39m \u001b[38;5;28mlen\u001b[39m(text_vec_layer_en\u001b[38;5;241m.\u001b[39mget_vocabulary())\n",
      "File \u001b[1;32mc:\\Users\\VICTUS\\anaconda3\\envs\\GPU\\lib\\site-packages\\keras\\layers\\preprocessing\\text_vectorization.py:487\u001b[0m, in \u001b[0;36mTextVectorization.get_vocabulary\u001b[1;34m(self, include_special_tokens)\u001b[0m\n\u001b[0;32m    478\u001b[0m \u001b[38;5;28;01mdef\u001b[39;00m \u001b[38;5;21mget_vocabulary\u001b[39m(\u001b[38;5;28mself\u001b[39m, include_special_tokens\u001b[38;5;241m=\u001b[39m\u001b[38;5;28;01mTrue\u001b[39;00m):\n\u001b[0;32m    479\u001b[0m \u001b[38;5;250m    \u001b[39m\u001b[38;5;124;03m\"\"\"Returns the current vocabulary of the layer.\u001b[39;00m\n\u001b[0;32m    480\u001b[0m \n\u001b[0;32m    481\u001b[0m \u001b[38;5;124;03m    Args:\u001b[39;00m\n\u001b[1;32m   (...)\u001b[0m\n\u001b[0;32m    485\u001b[0m \u001b[38;5;124;03m        returned vocabulary will not include any padding or OOV tokens.\u001b[39;00m\n\u001b[0;32m    486\u001b[0m \u001b[38;5;124;03m    \"\"\"\u001b[39;00m\n\u001b[1;32m--> 487\u001b[0m     \u001b[38;5;28;01mreturn\u001b[39;00m \u001b[38;5;28;43mself\u001b[39;49m\u001b[38;5;241;43m.\u001b[39;49m\u001b[43m_lookup_layer\u001b[49m\u001b[38;5;241;43m.\u001b[39;49m\u001b[43mget_vocabulary\u001b[49m\u001b[43m(\u001b[49m\u001b[43minclude_special_tokens\u001b[49m\u001b[43m)\u001b[49m\n",
      "File \u001b[1;32mc:\\Users\\VICTUS\\anaconda3\\envs\\GPU\\lib\\site-packages\\keras\\layers\\preprocessing\\index_lookup.py:385\u001b[0m, in \u001b[0;36mIndexLookup.get_vocabulary\u001b[1;34m(self, include_special_tokens)\u001b[0m\n\u001b[0;32m    382\u001b[0m     keys, values \u001b[38;5;241m=\u001b[39m \u001b[38;5;28mself\u001b[39m\u001b[38;5;241m.\u001b[39mlookup_table\u001b[38;5;241m.\u001b[39mexport()\n\u001b[0;32m    383\u001b[0m     vocab, indices \u001b[38;5;241m=\u001b[39m (values, keys) \u001b[38;5;28;01mif\u001b[39;00m \u001b[38;5;28mself\u001b[39m\u001b[38;5;241m.\u001b[39minvert \u001b[38;5;28;01melse\u001b[39;00m (keys, values)\n\u001b[0;32m    384\u001b[0m     vocab, indices \u001b[38;5;241m=\u001b[39m (\n\u001b[1;32m--> 385\u001b[0m         \u001b[38;5;28;43mself\u001b[39;49m\u001b[38;5;241;43m.\u001b[39;49m\u001b[43m_tensor_vocab_to_numpy\u001b[49m\u001b[43m(\u001b[49m\u001b[43mvocab\u001b[49m\u001b[43m)\u001b[49m,\n\u001b[0;32m    386\u001b[0m         indices\u001b[38;5;241m.\u001b[39mnumpy(),\n\u001b[0;32m    387\u001b[0m     )\n\u001b[0;32m    388\u001b[0m lookup \u001b[38;5;241m=\u001b[39m collections\u001b[38;5;241m.\u001b[39mdefaultdict(\n\u001b[0;32m    389\u001b[0m     \u001b[38;5;28;01mlambda\u001b[39;00m: \u001b[38;5;28mself\u001b[39m\u001b[38;5;241m.\u001b[39moov_token, \u001b[38;5;28mzip\u001b[39m(indices, vocab)\n\u001b[0;32m    390\u001b[0m )\n\u001b[0;32m    391\u001b[0m vocab \u001b[38;5;241m=\u001b[39m [lookup[x] \u001b[38;5;28;01mfor\u001b[39;00m x \u001b[38;5;129;01min\u001b[39;00m \u001b[38;5;28mrange\u001b[39m(\u001b[38;5;28mself\u001b[39m\u001b[38;5;241m.\u001b[39mvocabulary_size())]\n",
      "File \u001b[1;32mc:\\Users\\VICTUS\\anaconda3\\envs\\GPU\\lib\\site-packages\\keras\\layers\\preprocessing\\string_lookup.py:416\u001b[0m, in \u001b[0;36mStringLookup._tensor_vocab_to_numpy\u001b[1;34m(self, vocabulary)\u001b[0m\n\u001b[0;32m    413\u001b[0m \u001b[38;5;28;01mdef\u001b[39;00m \u001b[38;5;21m_tensor_vocab_to_numpy\u001b[39m(\u001b[38;5;28mself\u001b[39m, vocabulary):\n\u001b[0;32m    414\u001b[0m     vocabulary \u001b[38;5;241m=\u001b[39m vocabulary\u001b[38;5;241m.\u001b[39mnumpy()\n\u001b[0;32m    415\u001b[0m     \u001b[38;5;28;01mreturn\u001b[39;00m np\u001b[38;5;241m.\u001b[39marray(\n\u001b[1;32m--> 416\u001b[0m         [tf\u001b[38;5;241m.\u001b[39mcompat\u001b[38;5;241m.\u001b[39mas_text(x, \u001b[38;5;28mself\u001b[39m\u001b[38;5;241m.\u001b[39mencoding) \u001b[38;5;28;01mfor\u001b[39;00m x \u001b[38;5;129;01min\u001b[39;00m vocabulary]\n\u001b[0;32m    417\u001b[0m     )\n",
      "File \u001b[1;32mc:\\Users\\VICTUS\\anaconda3\\envs\\GPU\\lib\\site-packages\\keras\\layers\\preprocessing\\string_lookup.py:416\u001b[0m, in \u001b[0;36m<listcomp>\u001b[1;34m(.0)\u001b[0m\n\u001b[0;32m    413\u001b[0m \u001b[38;5;28;01mdef\u001b[39;00m \u001b[38;5;21m_tensor_vocab_to_numpy\u001b[39m(\u001b[38;5;28mself\u001b[39m, vocabulary):\n\u001b[0;32m    414\u001b[0m     vocabulary \u001b[38;5;241m=\u001b[39m vocabulary\u001b[38;5;241m.\u001b[39mnumpy()\n\u001b[0;32m    415\u001b[0m     \u001b[38;5;28;01mreturn\u001b[39;00m np\u001b[38;5;241m.\u001b[39marray(\n\u001b[1;32m--> 416\u001b[0m         [\u001b[43mtf\u001b[49m\u001b[38;5;241;43m.\u001b[39;49m\u001b[43mcompat\u001b[49m\u001b[38;5;241;43m.\u001b[39;49m\u001b[43mas_text\u001b[49m\u001b[43m(\u001b[49m\u001b[43mx\u001b[49m\u001b[43m,\u001b[49m\u001b[43m \u001b[49m\u001b[38;5;28;43mself\u001b[39;49m\u001b[38;5;241;43m.\u001b[39;49m\u001b[43mencoding\u001b[49m\u001b[43m)\u001b[49m \u001b[38;5;28;01mfor\u001b[39;00m x \u001b[38;5;129;01min\u001b[39;00m vocabulary]\n\u001b[0;32m    417\u001b[0m     )\n",
      "File \u001b[1;32mc:\\Users\\VICTUS\\anaconda3\\envs\\GPU\\lib\\site-packages\\tensorflow\\python\\util\\compat.py:110\u001b[0m, in \u001b[0;36mas_text\u001b[1;34m(bytes_or_text, encoding)\u001b[0m\n\u001b[0;32m    108\u001b[0m   \u001b[38;5;28;01mreturn\u001b[39;00m bytes_or_text\n\u001b[0;32m    109\u001b[0m \u001b[38;5;28;01melif\u001b[39;00m \u001b[38;5;28misinstance\u001b[39m(bytes_or_text, \u001b[38;5;28mbytes\u001b[39m):\n\u001b[1;32m--> 110\u001b[0m   \u001b[38;5;28;01mreturn\u001b[39;00m \u001b[43mbytes_or_text\u001b[49m\u001b[38;5;241;43m.\u001b[39;49m\u001b[43mdecode\u001b[49m\u001b[43m(\u001b[49m\u001b[43mencoding\u001b[49m\u001b[43m)\u001b[49m\n\u001b[0;32m    111\u001b[0m \u001b[38;5;28;01melse\u001b[39;00m:\n\u001b[0;32m    112\u001b[0m   \u001b[38;5;28;01mraise\u001b[39;00m \u001b[38;5;167;01mTypeError\u001b[39;00m(\u001b[38;5;124m'\u001b[39m\u001b[38;5;124mExpected binary or unicode string, got \u001b[39m\u001b[38;5;132;01m%r\u001b[39;00m\u001b[38;5;124m'\u001b[39m \u001b[38;5;241m%\u001b[39m bytes_or_text)\n",
      "\u001b[1;31mUnicodeDecodeError\u001b[0m: 'utf-8' codec can't decode bytes in position 6-7: unexpected end of data"
     ]
    }
   ],
   "source": [
    "vocab_size_hn = len(text_vec_layer_hn.get_vocabulary())\n",
    "vocab_size_en = len(text_vec_layer_en.get_vocabulary())\n"
   ]
  },
  {
   "cell_type": "code",
   "execution_count": 218,
   "metadata": {
    "execution": {
     "iopub.execute_input": "2025-01-15T10:12:22.887830Z",
     "iopub.status.busy": "2025-01-15T10:12:22.887512Z",
     "iopub.status.idle": "2025-01-15T10:12:22.902466Z",
     "shell.execute_reply": "2025-01-15T10:12:22.901602Z",
     "shell.execute_reply.started": "2025-01-15T10:12:22.887799Z"
    },
    "trusted": true
   },
   "outputs": [
    {
     "data": {
      "text/html": [
       "<div>\n",
       "<style scoped>\n",
       "    .dataframe tbody tr th:only-of-type {\n",
       "        vertical-align: middle;\n",
       "    }\n",
       "\n",
       "    .dataframe tbody tr th {\n",
       "        vertical-align: top;\n",
       "    }\n",
       "\n",
       "    .dataframe thead th {\n",
       "        text-align: right;\n",
       "    }\n",
       "</style>\n",
       "<table border=\"1\" class=\"dataframe\">\n",
       "  <thead>\n",
       "    <tr style=\"text-align: right;\">\n",
       "      <th></th>\n",
       "      <th>hindi</th>\n",
       "      <th>english</th>\n",
       "    </tr>\n",
       "  </thead>\n",
       "  <tbody>\n",
       "    <tr>\n",
       "      <th>0</th>\n",
       "      <td>अपने अनुप्रयोग को पहुंचनीयता व्यायाम का लाभ दें</td>\n",
       "      <td>Give your application an accessibility workout</td>\n",
       "    </tr>\n",
       "    <tr>\n",
       "      <th>1</th>\n",
       "      <td>एक्सेर्साइसर पहुंचनीयता अन्वेषक</td>\n",
       "      <td>Accerciser Accessibility Explorer</td>\n",
       "    </tr>\n",
       "    <tr>\n",
       "      <th>2</th>\n",
       "      <td>निचले पटल के लिए डिफोल्ट प्लग-इन खाका</td>\n",
       "      <td>The default plugin layout for the bottom panel</td>\n",
       "    </tr>\n",
       "    <tr>\n",
       "      <th>3</th>\n",
       "      <td>ऊपरी पटल के लिए डिफोल्ट प्लग-इन खाका</td>\n",
       "      <td>The default plugin layout for the top panel</td>\n",
       "    </tr>\n",
       "    <tr>\n",
       "      <th>4</th>\n",
       "      <td>उन प्लग-इनों की सूची जिन्हें डिफोल्ट रूप से नि...</td>\n",
       "      <td>A list of plugins that are disabled by default</td>\n",
       "    </tr>\n",
       "  </tbody>\n",
       "</table>\n",
       "</div>"
      ],
      "text/plain": [
       "                                               hindi  \\\n",
       "0    अपने अनुप्रयोग को पहुंचनीयता व्यायाम का लाभ दें   \n",
       "1                    एक्सेर्साइसर पहुंचनीयता अन्वेषक   \n",
       "2              निचले पटल के लिए डिफोल्ट प्लग-इन खाका   \n",
       "3               ऊपरी पटल के लिए डिफोल्ट प्लग-इन खाका   \n",
       "4  उन प्लग-इनों की सूची जिन्हें डिफोल्ट रूप से नि...   \n",
       "\n",
       "                                          english  \n",
       "0  Give your application an accessibility workout  \n",
       "1               Accerciser Accessibility Explorer  \n",
       "2  The default plugin layout for the bottom panel  \n",
       "3     The default plugin layout for the top panel  \n",
       "4  A list of plugins that are disabled by default  "
      ]
     },
     "execution_count": 218,
     "metadata": {},
     "output_type": "execute_result"
    }
   ],
   "source": [
    "text.head()"
   ]
  },
  {
   "cell_type": "code",
   "execution_count": 219,
   "metadata": {
    "execution": {
     "iopub.execute_input": "2025-01-15T10:12:22.903770Z",
     "iopub.status.busy": "2025-01-15T10:12:22.903488Z",
     "iopub.status.idle": "2025-01-15T10:12:22.912150Z",
     "shell.execute_reply": "2025-01-15T10:12:22.911362Z",
     "shell.execute_reply.started": "2025-01-15T10:12:22.903740Z"
    },
    "trusted": true
   },
   "outputs": [],
   "source": [
    "#text_vec_layer_en([['what is your name'],['my name is hallo world']])"
   ]
  },
  {
   "cell_type": "code",
   "execution_count": 220,
   "metadata": {
    "execution": {
     "iopub.execute_input": "2025-01-15T10:12:22.913280Z",
     "iopub.status.busy": "2025-01-15T10:12:22.913011Z",
     "iopub.status.idle": "2025-01-15T10:12:23.500284Z",
     "shell.execute_reply": "2025-01-15T10:12:23.499398Z",
     "shell.execute_reply.started": "2025-01-15T10:12:22.913253Z"
    },
    "trusted": true
   },
   "outputs": [],
   "source": [
    "# Sampling\n",
    "text = text.sample(text.shape[0])"
   ]
  },
  {
   "cell_type": "code",
   "execution_count": 221,
   "metadata": {
    "execution": {
     "iopub.execute_input": "2025-01-15T10:12:23.501554Z",
     "iopub.status.busy": "2025-01-15T10:12:23.501216Z",
     "iopub.status.idle": "2025-01-15T10:12:23.632969Z",
     "shell.execute_reply": "2025-01-15T10:12:23.631927Z",
     "shell.execute_reply.started": "2025-01-15T10:12:23.501521Z"
    },
    "trusted": true
   },
   "outputs": [],
   "source": [
    "# Train data\n",
    "X_train_dec = text.iloc[:1350481,0]\n",
    "X_train_enc = text.iloc[:1350481,1]\n",
    "y_train = text.iloc[:1350481,0]\n",
    "\n",
    "# Validation data\n",
    "X_val_dec = text.iloc[1350481:1450481,0]\n",
    "X_val_enc = text.iloc[1350481:1450481,1]\n",
    "y_val = text.iloc[1350481:1450481,0]\n",
    "\n",
    "# Test data\n",
    "X_test_dec = text.iloc[1450481:1500001,0]\n",
    "X_test_enc = text.iloc[1450481:1500001,1]\n",
    "y_test = text.iloc[1450481:1500001,0]\n"
   ]
  },
  {
   "cell_type": "code",
   "execution_count": 222,
   "metadata": {
    "execution": {
     "iopub.execute_input": "2025-01-15T10:12:23.634259Z",
     "iopub.status.busy": "2025-01-15T10:12:23.633883Z",
     "iopub.status.idle": "2025-01-15T10:12:24.680343Z",
     "shell.execute_reply": "2025-01-15T10:12:24.679650Z",
     "shell.execute_reply.started": "2025-01-15T10:12:23.634227Z"
    },
    "trusted": true
   },
   "outputs": [],
   "source": [
    "X_train_dec = '<startseq> ' + X_train_dec\n",
    "X_val_dec = '<startseq> ' + X_val_dec\n",
    "\n",
    "y_train += ' <endseq>'\n",
    "y_val += ' <endseq>'"
   ]
  },
  {
   "cell_type": "code",
   "execution_count": 229,
   "metadata": {
    "execution": {
     "iopub.execute_input": "2025-01-15T10:14:22.827233Z",
     "iopub.status.busy": "2025-01-15T10:14:22.826866Z",
     "iopub.status.idle": "2025-01-15T10:14:29.686868Z",
     "shell.execute_reply": "2025-01-15T10:14:29.685878Z",
     "shell.execute_reply.started": "2025-01-15T10:14:22.827201Z"
    },
    "trusted": true
   },
   "outputs": [],
   "source": [
    "y_val = text_vec_layer_hn(y_val)\n",
    "y_train = text_vec_layer_hn(y_train)"
   ]
  },
  {
   "cell_type": "code",
   "execution_count": 235,
   "metadata": {
    "execution": {
     "iopub.execute_input": "2025-01-15T10:17:05.957341Z",
     "iopub.status.busy": "2025-01-15T10:17:05.956984Z",
     "iopub.status.idle": "2025-01-15T10:17:07.446976Z",
     "shell.execute_reply": "2025-01-15T10:17:07.446285Z",
     "shell.execute_reply.started": "2025-01-15T10:17:05.957281Z"
    },
    "trusted": true
   },
   "outputs": [],
   "source": [
    "X_train_enc = tf.constant(X_train_enc)\n",
    "X_val_enc = tf.constant(X_val_enc)\n",
    "\n",
    "X_train_dec = tf.constant(X_train_dec)\n",
    "X_val_dec = tf.constant(X_val_dec)"
   ]
  },
  {
   "cell_type": "code",
   "execution_count": 265,
   "metadata": {
    "execution": {
     "iopub.execute_input": "2025-01-15T12:13:06.251035Z",
     "iopub.status.busy": "2025-01-15T12:13:06.250743Z",
     "iopub.status.idle": "2025-01-15T12:13:06.319408Z",
     "shell.execute_reply": "2025-01-15T12:13:06.318543Z",
     "shell.execute_reply.started": "2025-01-15T12:13:06.251011Z"
    },
    "trusted": true
   },
   "outputs": [],
   "source": [
    "# Encoder\n",
    "encoder_input = tf.keras.layers.Input(shape=(),dtype=tf.string)\n",
    "encoder_input_ids = text_vec_layer_en(encoder_input)\n",
    "encoder_embedding = tf.keras.layers.Embedding(vocab_size_en,128,mask_zero=True)(encoder_input_ids)\n",
    "encoder_output, *encoder_states = tf.keras.layers.LSTM(units=128,return_state=True)(encoder_embedding)\n",
    "\n",
    "# Decoder\n",
    "decoder_input = tf.keras.layers.Input(shape=(),dtype=tf.string)\n",
    "decoder_input_ids = text_vec_layer_hn(decoder_input)\n",
    "decoder_embedding = tf.keras.layers.Embedding(vocab_size_hn,128,mask_zero=True)(decoder_input_ids)\n",
    "decoder_lstm = tf.keras.layers.LSTM(128,return_sequences=True)(decoder_embedding, initial_state=encoder_states)\n",
    "decoder_ff_layer = tf.keras.layers.Dense(128, activation='relu')(decoder_lstm)\n",
    "decoder_output = tf.keras.layers.Dense(vocab_size_hn,activation='softmax')(decoder_ff_layer)\n",
    "\n",
    "# Final Model Encoder-Decoder\n",
    "model = tf.keras.Model(inputs=[encoder_input,decoder_input],outputs=decoder_output)"
   ]
  },
  {
   "cell_type": "code",
   "execution_count": 266,
   "metadata": {
    "execution": {
     "iopub.execute_input": "2025-01-15T12:13:08.035787Z",
     "iopub.status.busy": "2025-01-15T12:13:08.035484Z",
     "iopub.status.idle": "2025-01-15T12:13:08.043716Z",
     "shell.execute_reply": "2025-01-15T12:13:08.043003Z",
     "shell.execute_reply.started": "2025-01-15T12:13:08.035763Z"
    },
    "trusted": true
   },
   "outputs": [],
   "source": [
    "model.compile(optimizer='adam',loss='sparse_categorical_crossentropy',metrics=['accuracy'])"
   ]
  },
  {
   "cell_type": "code",
   "execution_count": 267,
   "metadata": {
    "execution": {
     "iopub.execute_input": "2025-01-15T12:13:11.318760Z",
     "iopub.status.busy": "2025-01-15T12:13:11.318466Z",
     "iopub.status.idle": "2025-01-15T12:13:11.345764Z",
     "shell.execute_reply": "2025-01-15T12:13:11.344811Z",
     "shell.execute_reply.started": "2025-01-15T12:13:11.318736Z"
    },
    "trusted": true
   },
   "outputs": [
    {
     "data": {
      "text/html": [
       "<pre style=\"white-space:pre;overflow-x:auto;line-height:normal;font-family:Menlo,'DejaVu Sans Mono',consolas,'Courier New',monospace\"><span style=\"font-weight: bold\">Model: \"functional_14\"</span>\n",
       "</pre>\n"
      ],
      "text/plain": [
       "\u001b[1mModel: \"functional_14\"\u001b[0m\n"
      ]
     },
     "metadata": {},
     "output_type": "display_data"
    },
    {
     "data": {
      "text/html": [
       "<pre style=\"white-space:pre;overflow-x:auto;line-height:normal;font-family:Menlo,'DejaVu Sans Mono',consolas,'Courier New',monospace\">┏━━━━━━━━━━━━━━━━━━━━━━━━━━━┳━━━━━━━━━━━━━━━━━━━━━━━━┳━━━━━━━━━━━━━━━━┳━━━━━━━━━━━━━━━━━━━━━━━━┓\n",
       "┃<span style=\"font-weight: bold\"> Layer (type)              </span>┃<span style=\"font-weight: bold\"> Output Shape           </span>┃<span style=\"font-weight: bold\">        Param # </span>┃<span style=\"font-weight: bold\"> Connected to           </span>┃\n",
       "┡━━━━━━━━━━━━━━━━━━━━━━━━━━━╇━━━━━━━━━━━━━━━━━━━━━━━━╇━━━━━━━━━━━━━━━━╇━━━━━━━━━━━━━━━━━━━━━━━━┩\n",
       "│ input_layer_35            │ (<span style=\"color: #00d7ff; text-decoration-color: #00d7ff\">None</span>)                 │              <span style=\"color: #00af00; text-decoration-color: #00af00\">0</span> │ -                      │\n",
       "│ (<span style=\"color: #0087ff; text-decoration-color: #0087ff\">InputLayer</span>)              │                        │                │                        │\n",
       "├───────────────────────────┼────────────────────────┼────────────────┼────────────────────────┤\n",
       "│ input_layer_36            │ (<span style=\"color: #00d7ff; text-decoration-color: #00d7ff\">None</span>)                 │              <span style=\"color: #00af00; text-decoration-color: #00af00\">0</span> │ -                      │\n",
       "│ (<span style=\"color: #0087ff; text-decoration-color: #0087ff\">InputLayer</span>)              │                        │                │                        │\n",
       "├───────────────────────────┼────────────────────────┼────────────────┼────────────────────────┤\n",
       "│ text_vectorization_6      │ (<span style=\"color: #00d7ff; text-decoration-color: #00d7ff\">None</span>, <span style=\"color: #00af00; text-decoration-color: #00af00\">30</span>)             │              <span style=\"color: #00af00; text-decoration-color: #00af00\">0</span> │ input_layer_35[<span style=\"color: #00af00; text-decoration-color: #00af00\">0</span>][<span style=\"color: #00af00; text-decoration-color: #00af00\">0</span>]   │\n",
       "│ (<span style=\"color: #0087ff; text-decoration-color: #0087ff\">TextVectorization</span>)       │                        │                │                        │\n",
       "├───────────────────────────┼────────────────────────┼────────────────┼────────────────────────┤\n",
       "│ text_vectorization_7      │ (<span style=\"color: #00d7ff; text-decoration-color: #00d7ff\">None</span>, <span style=\"color: #00af00; text-decoration-color: #00af00\">30</span>)             │              <span style=\"color: #00af00; text-decoration-color: #00af00\">0</span> │ input_layer_36[<span style=\"color: #00af00; text-decoration-color: #00af00\">0</span>][<span style=\"color: #00af00; text-decoration-color: #00af00\">0</span>]   │\n",
       "│ (<span style=\"color: #0087ff; text-decoration-color: #0087ff\">TextVectorization</span>)       │                        │                │                        │\n",
       "├───────────────────────────┼────────────────────────┼────────────────┼────────────────────────┤\n",
       "│ embedding_35 (<span style=\"color: #0087ff; text-decoration-color: #0087ff\">Embedding</span>)  │ (<span style=\"color: #00d7ff; text-decoration-color: #00d7ff\">None</span>, <span style=\"color: #00af00; text-decoration-color: #00af00\">30</span>, <span style=\"color: #00af00; text-decoration-color: #00af00\">128</span>)        │        <span style=\"color: #00af00; text-decoration-color: #00af00\">128,000</span> │ text_vectorization_6[<span style=\"color: #00af00; text-decoration-color: #00af00\">…</span> │\n",
       "├───────────────────────────┼────────────────────────┼────────────────┼────────────────────────┤\n",
       "│ not_equal (<span style=\"color: #0087ff; text-decoration-color: #0087ff\">NotEqual</span>)      │ (<span style=\"color: #00d7ff; text-decoration-color: #00d7ff\">None</span>, <span style=\"color: #00af00; text-decoration-color: #00af00\">30</span>)             │              <span style=\"color: #00af00; text-decoration-color: #00af00\">0</span> │ text_vectorization_6[<span style=\"color: #00af00; text-decoration-color: #00af00\">…</span> │\n",
       "├───────────────────────────┼────────────────────────┼────────────────┼────────────────────────┤\n",
       "│ embedding_36 (<span style=\"color: #0087ff; text-decoration-color: #0087ff\">Embedding</span>)  │ (<span style=\"color: #00d7ff; text-decoration-color: #00d7ff\">None</span>, <span style=\"color: #00af00; text-decoration-color: #00af00\">30</span>, <span style=\"color: #00af00; text-decoration-color: #00af00\">128</span>)        │        <span style=\"color: #00af00; text-decoration-color: #00af00\">128,000</span> │ text_vectorization_7[<span style=\"color: #00af00; text-decoration-color: #00af00\">…</span> │\n",
       "├───────────────────────────┼────────────────────────┼────────────────┼────────────────────────┤\n",
       "│ lstm_34 (<span style=\"color: #0087ff; text-decoration-color: #0087ff\">LSTM</span>)            │ [(<span style=\"color: #00d7ff; text-decoration-color: #00d7ff\">None</span>, <span style=\"color: #00af00; text-decoration-color: #00af00\">128</span>), (<span style=\"color: #00d7ff; text-decoration-color: #00d7ff\">None</span>,   │        <span style=\"color: #00af00; text-decoration-color: #00af00\">131,584</span> │ embedding_35[<span style=\"color: #00af00; text-decoration-color: #00af00\">0</span>][<span style=\"color: #00af00; text-decoration-color: #00af00\">0</span>],    │\n",
       "│                           │ <span style=\"color: #00af00; text-decoration-color: #00af00\">128</span>), (<span style=\"color: #00d7ff; text-decoration-color: #00d7ff\">None</span>, <span style=\"color: #00af00; text-decoration-color: #00af00\">128</span>)]     │                │ not_equal[<span style=\"color: #00af00; text-decoration-color: #00af00\">0</span>][<span style=\"color: #00af00; text-decoration-color: #00af00\">0</span>]        │\n",
       "├───────────────────────────┼────────────────────────┼────────────────┼────────────────────────┤\n",
       "│ lstm_35 (<span style=\"color: #0087ff; text-decoration-color: #0087ff\">LSTM</span>)            │ (<span style=\"color: #00d7ff; text-decoration-color: #00d7ff\">None</span>, <span style=\"color: #00af00; text-decoration-color: #00af00\">30</span>, <span style=\"color: #00af00; text-decoration-color: #00af00\">128</span>)        │        <span style=\"color: #00af00; text-decoration-color: #00af00\">131,584</span> │ embedding_36[<span style=\"color: #00af00; text-decoration-color: #00af00\">0</span>][<span style=\"color: #00af00; text-decoration-color: #00af00\">0</span>],    │\n",
       "│                           │                        │                │ lstm_34[<span style=\"color: #00af00; text-decoration-color: #00af00\">0</span>][<span style=\"color: #00af00; text-decoration-color: #00af00\">1</span>],         │\n",
       "│                           │                        │                │ lstm_34[<span style=\"color: #00af00; text-decoration-color: #00af00\">0</span>][<span style=\"color: #00af00; text-decoration-color: #00af00\">2</span>]          │\n",
       "├───────────────────────────┼────────────────────────┼────────────────┼────────────────────────┤\n",
       "│ dense_38 (<span style=\"color: #0087ff; text-decoration-color: #0087ff\">Dense</span>)          │ (<span style=\"color: #00d7ff; text-decoration-color: #00d7ff\">None</span>, <span style=\"color: #00af00; text-decoration-color: #00af00\">30</span>, <span style=\"color: #00af00; text-decoration-color: #00af00\">128</span>)        │         <span style=\"color: #00af00; text-decoration-color: #00af00\">16,512</span> │ lstm_35[<span style=\"color: #00af00; text-decoration-color: #00af00\">0</span>][<span style=\"color: #00af00; text-decoration-color: #00af00\">0</span>]          │\n",
       "├───────────────────────────┼────────────────────────┼────────────────┼────────────────────────┤\n",
       "│ dense_39 (<span style=\"color: #0087ff; text-decoration-color: #0087ff\">Dense</span>)          │ (<span style=\"color: #00d7ff; text-decoration-color: #00d7ff\">None</span>, <span style=\"color: #00af00; text-decoration-color: #00af00\">30</span>, <span style=\"color: #00af00; text-decoration-color: #00af00\">1000</span>)       │        <span style=\"color: #00af00; text-decoration-color: #00af00\">129,000</span> │ dense_38[<span style=\"color: #00af00; text-decoration-color: #00af00\">0</span>][<span style=\"color: #00af00; text-decoration-color: #00af00\">0</span>]         │\n",
       "└───────────────────────────┴────────────────────────┴────────────────┴────────────────────────┘\n",
       "</pre>\n"
      ],
      "text/plain": [
       "┏━━━━━━━━━━━━━━━━━━━━━━━━━━━┳━━━━━━━━━━━━━━━━━━━━━━━━┳━━━━━━━━━━━━━━━━┳━━━━━━━━━━━━━━━━━━━━━━━━┓\n",
       "┃\u001b[1m \u001b[0m\u001b[1mLayer (type)             \u001b[0m\u001b[1m \u001b[0m┃\u001b[1m \u001b[0m\u001b[1mOutput Shape          \u001b[0m\u001b[1m \u001b[0m┃\u001b[1m \u001b[0m\u001b[1m       Param #\u001b[0m\u001b[1m \u001b[0m┃\u001b[1m \u001b[0m\u001b[1mConnected to          \u001b[0m\u001b[1m \u001b[0m┃\n",
       "┡━━━━━━━━━━━━━━━━━━━━━━━━━━━╇━━━━━━━━━━━━━━━━━━━━━━━━╇━━━━━━━━━━━━━━━━╇━━━━━━━━━━━━━━━━━━━━━━━━┩\n",
       "│ input_layer_35            │ (\u001b[38;5;45mNone\u001b[0m)                 │              \u001b[38;5;34m0\u001b[0m │ -                      │\n",
       "│ (\u001b[38;5;33mInputLayer\u001b[0m)              │                        │                │                        │\n",
       "├───────────────────────────┼────────────────────────┼────────────────┼────────────────────────┤\n",
       "│ input_layer_36            │ (\u001b[38;5;45mNone\u001b[0m)                 │              \u001b[38;5;34m0\u001b[0m │ -                      │\n",
       "│ (\u001b[38;5;33mInputLayer\u001b[0m)              │                        │                │                        │\n",
       "├───────────────────────────┼────────────────────────┼────────────────┼────────────────────────┤\n",
       "│ text_vectorization_6      │ (\u001b[38;5;45mNone\u001b[0m, \u001b[38;5;34m30\u001b[0m)             │              \u001b[38;5;34m0\u001b[0m │ input_layer_35[\u001b[38;5;34m0\u001b[0m][\u001b[38;5;34m0\u001b[0m]   │\n",
       "│ (\u001b[38;5;33mTextVectorization\u001b[0m)       │                        │                │                        │\n",
       "├───────────────────────────┼────────────────────────┼────────────────┼────────────────────────┤\n",
       "│ text_vectorization_7      │ (\u001b[38;5;45mNone\u001b[0m, \u001b[38;5;34m30\u001b[0m)             │              \u001b[38;5;34m0\u001b[0m │ input_layer_36[\u001b[38;5;34m0\u001b[0m][\u001b[38;5;34m0\u001b[0m]   │\n",
       "│ (\u001b[38;5;33mTextVectorization\u001b[0m)       │                        │                │                        │\n",
       "├───────────────────────────┼────────────────────────┼────────────────┼────────────────────────┤\n",
       "│ embedding_35 (\u001b[38;5;33mEmbedding\u001b[0m)  │ (\u001b[38;5;45mNone\u001b[0m, \u001b[38;5;34m30\u001b[0m, \u001b[38;5;34m128\u001b[0m)        │        \u001b[38;5;34m128,000\u001b[0m │ text_vectorization_6[\u001b[38;5;34m…\u001b[0m │\n",
       "├───────────────────────────┼────────────────────────┼────────────────┼────────────────────────┤\n",
       "│ not_equal (\u001b[38;5;33mNotEqual\u001b[0m)      │ (\u001b[38;5;45mNone\u001b[0m, \u001b[38;5;34m30\u001b[0m)             │              \u001b[38;5;34m0\u001b[0m │ text_vectorization_6[\u001b[38;5;34m…\u001b[0m │\n",
       "├───────────────────────────┼────────────────────────┼────────────────┼────────────────────────┤\n",
       "│ embedding_36 (\u001b[38;5;33mEmbedding\u001b[0m)  │ (\u001b[38;5;45mNone\u001b[0m, \u001b[38;5;34m30\u001b[0m, \u001b[38;5;34m128\u001b[0m)        │        \u001b[38;5;34m128,000\u001b[0m │ text_vectorization_7[\u001b[38;5;34m…\u001b[0m │\n",
       "├───────────────────────────┼────────────────────────┼────────────────┼────────────────────────┤\n",
       "│ lstm_34 (\u001b[38;5;33mLSTM\u001b[0m)            │ [(\u001b[38;5;45mNone\u001b[0m, \u001b[38;5;34m128\u001b[0m), (\u001b[38;5;45mNone\u001b[0m,   │        \u001b[38;5;34m131,584\u001b[0m │ embedding_35[\u001b[38;5;34m0\u001b[0m][\u001b[38;5;34m0\u001b[0m],    │\n",
       "│                           │ \u001b[38;5;34m128\u001b[0m), (\u001b[38;5;45mNone\u001b[0m, \u001b[38;5;34m128\u001b[0m)]     │                │ not_equal[\u001b[38;5;34m0\u001b[0m][\u001b[38;5;34m0\u001b[0m]        │\n",
       "├───────────────────────────┼────────────────────────┼────────────────┼────────────────────────┤\n",
       "│ lstm_35 (\u001b[38;5;33mLSTM\u001b[0m)            │ (\u001b[38;5;45mNone\u001b[0m, \u001b[38;5;34m30\u001b[0m, \u001b[38;5;34m128\u001b[0m)        │        \u001b[38;5;34m131,584\u001b[0m │ embedding_36[\u001b[38;5;34m0\u001b[0m][\u001b[38;5;34m0\u001b[0m],    │\n",
       "│                           │                        │                │ lstm_34[\u001b[38;5;34m0\u001b[0m][\u001b[38;5;34m1\u001b[0m],         │\n",
       "│                           │                        │                │ lstm_34[\u001b[38;5;34m0\u001b[0m][\u001b[38;5;34m2\u001b[0m]          │\n",
       "├───────────────────────────┼────────────────────────┼────────────────┼────────────────────────┤\n",
       "│ dense_38 (\u001b[38;5;33mDense\u001b[0m)          │ (\u001b[38;5;45mNone\u001b[0m, \u001b[38;5;34m30\u001b[0m, \u001b[38;5;34m128\u001b[0m)        │         \u001b[38;5;34m16,512\u001b[0m │ lstm_35[\u001b[38;5;34m0\u001b[0m][\u001b[38;5;34m0\u001b[0m]          │\n",
       "├───────────────────────────┼────────────────────────┼────────────────┼────────────────────────┤\n",
       "│ dense_39 (\u001b[38;5;33mDense\u001b[0m)          │ (\u001b[38;5;45mNone\u001b[0m, \u001b[38;5;34m30\u001b[0m, \u001b[38;5;34m1000\u001b[0m)       │        \u001b[38;5;34m129,000\u001b[0m │ dense_38[\u001b[38;5;34m0\u001b[0m][\u001b[38;5;34m0\u001b[0m]         │\n",
       "└───────────────────────────┴────────────────────────┴────────────────┴────────────────────────┘\n"
      ]
     },
     "metadata": {},
     "output_type": "display_data"
    },
    {
     "data": {
      "text/html": [
       "<pre style=\"white-space:pre;overflow-x:auto;line-height:normal;font-family:Menlo,'DejaVu Sans Mono',consolas,'Courier New',monospace\"><span style=\"font-weight: bold\"> Total params: </span><span style=\"color: #00af00; text-decoration-color: #00af00\">664,680</span> (2.54 MB)\n",
       "</pre>\n"
      ],
      "text/plain": [
       "\u001b[1m Total params: \u001b[0m\u001b[38;5;34m664,680\u001b[0m (2.54 MB)\n"
      ]
     },
     "metadata": {},
     "output_type": "display_data"
    },
    {
     "data": {
      "text/html": [
       "<pre style=\"white-space:pre;overflow-x:auto;line-height:normal;font-family:Menlo,'DejaVu Sans Mono',consolas,'Courier New',monospace\"><span style=\"font-weight: bold\"> Trainable params: </span><span style=\"color: #00af00; text-decoration-color: #00af00\">664,680</span> (2.54 MB)\n",
       "</pre>\n"
      ],
      "text/plain": [
       "\u001b[1m Trainable params: \u001b[0m\u001b[38;5;34m664,680\u001b[0m (2.54 MB)\n"
      ]
     },
     "metadata": {},
     "output_type": "display_data"
    },
    {
     "data": {
      "text/html": [
       "<pre style=\"white-space:pre;overflow-x:auto;line-height:normal;font-family:Menlo,'DejaVu Sans Mono',consolas,'Courier New',monospace\"><span style=\"font-weight: bold\"> Non-trainable params: </span><span style=\"color: #00af00; text-decoration-color: #00af00\">0</span> (0.00 B)\n",
       "</pre>\n"
      ],
      "text/plain": [
       "\u001b[1m Non-trainable params: \u001b[0m\u001b[38;5;34m0\u001b[0m (0.00 B)\n"
      ]
     },
     "metadata": {},
     "output_type": "display_data"
    }
   ],
   "source": [
    "model.summary()"
   ]
  },
  {
   "cell_type": "code",
   "execution_count": 268,
   "metadata": {
    "execution": {
     "iopub.execute_input": "2025-01-15T12:13:14.214907Z",
     "iopub.status.busy": "2025-01-15T12:13:14.214595Z",
     "iopub.status.idle": "2025-01-15T12:13:14.696117Z",
     "shell.execute_reply": "2025-01-15T12:13:14.695337Z",
     "shell.execute_reply.started": "2025-01-15T12:13:14.214880Z"
    },
    "trusted": true
   },
   "outputs": [
    {
     "data": {
      "image/png": "[encoded data removed]",
      "text/plain": [
       "<IPython.core.display.Image object>"
      ]
     },
     "execution_count": 268,
     "metadata": {},
     "output_type": "execute_result"
    }
   ],
   "source": [
    "# Plot model\n",
    "\n",
    "tf.keras.utils.plot_model(model,show_shapes=True)"
   ]
  },
  {
   "cell_type": "code",
   "execution_count": 269,
   "metadata": {
    "execution": {
     "iopub.execute_input": "2025-01-15T12:13:17.367669Z",
     "iopub.status.busy": "2025-01-15T12:13:17.367377Z",
     "iopub.status.idle": "2025-01-15T12:13:17.371658Z",
     "shell.execute_reply": "2025-01-15T12:13:17.370670Z",
     "shell.execute_reply.started": "2025-01-15T12:13:17.367646Z"
    },
    "trusted": true
   },
   "outputs": [],
   "source": [
    "early_stopping = tf.keras.callbacks.EarlyStopping(patience=10,verbose=1)"
   ]
  },
  {
   "cell_type": "code",
   "execution_count": null,
   "metadata": {
    "execution": {
     "iopub.execute_input": "2025-01-15T12:13:19.764831Z",
     "iopub.status.busy": "2025-01-15T12:13:19.764514Z"
    },
    "trusted": true
   },
   "outputs": [
    {
     "name": "stdout",
     "output_type": "stream",
     "text": [
      "Epoch 1/100\n",
      "\u001b[1m42203/42203\u001b[0m \u001b[32m━━━━━━━━━━━━━━━━━━━━\u001b[0m\u001b[37m\u001b[0m \u001b[1m1589s\u001b[0m 38ms/step - accuracy: 0.1760 - loss: 3.0412 - val_accuracy: 0.1922 - val_loss: 2.5200\n",
      "Epoch 2/100\n",
      "\u001b[1m42203/42203\u001b[0m \u001b[32m━━━━━━━━━━━━━━━━━━━━\u001b[0m\u001b[37m\u001b[0m \u001b[1m1585s\u001b[0m 38ms/step - accuracy: 0.1949 - loss: 2.4826 - val_accuracy: 0.1970 - val_loss: 2.4214\n",
      "Epoch 3/100\n",
      "\u001b[1m42203/42203\u001b[0m \u001b[32m━━━━━━━━━━━━━━━━━━━━\u001b[0m\u001b[37m\u001b[0m \u001b[1m1584s\u001b[0m 38ms/step - accuracy: 0.1995 - loss: 2.3939 - val_accuracy: 0.1997 - val_loss: 2.3776\n",
      "Epoch 4/100\n",
      "\u001b[1m 6944/42203\u001b[0m \u001b[32m━━━\u001b[0m\u001b[37m━━━━━━━━━━━━━━━━━\u001b[0m \u001b[1m21:43\u001b[0m 37ms/step - accuracy: 0.2023 - loss: 2.3550"
     ]
    }
   ],
   "source": [
    "model.fit((X_train_enc,X_train_dec),y_train,\n",
    "          epochs=100,\n",
    "          callbacks=[early_stopping],\n",
    "          validation_data=((X_val_enc,X_val_dec),y_val))"
   ]
  },
  {
   "cell_type": "code",
   "execution_count": null,
   "metadata": {
    "trusted": true
   },
   "outputs": [],
   "source": []
  },
  {
   "cell_type": "code",
   "execution_count": null,
   "metadata": {},
   "outputs": [],
   "source": []
  }
 ],
 "metadata": {
  "kaggle": {
   "accelerator": "nvidiaTeslaT4",
   "dataSources": [
    {
     "datasetId": 789090,
     "sourceId": 1355361,
     "sourceType": "datasetVersion"
    }
   ],
   "dockerImageVersionId": 30823,
   "isGpuEnabled": true,
   "isInternetEnabled": true,
   "language": "python",
   "sourceType": "notebook"
  },
  "kernelspec": {
   "display_name": "GPU",
   "language": "python",
   "name": "python3"
  },
  "language_info": {
   "codemirror_mode": {
    "name": "ipython",
    "version": 3
   },
   "file_extension": ".py",
   "mimetype": "text/x-python",
   "name": "python",
   "nbconvert_exporter": "python",
   "pygments_lexer": "ipython3",
   "version": "3.8.20"
  }
 },
 "nbformat": 4,
 "nbformat_minor": 4
}
